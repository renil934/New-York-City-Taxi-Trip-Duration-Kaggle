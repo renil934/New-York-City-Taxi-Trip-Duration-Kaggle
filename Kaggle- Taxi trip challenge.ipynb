{
 "cells": [
  {
   "cell_type": "code",
   "execution_count": 133,
   "metadata": {
    "collapsed": true
   },
   "outputs": [],
   "source": [
    "import pandas as pd\n",
    "import numpy as np\n",
    "import datetime as dt\n",
    "import time as t\n",
    "from geopy.distance import great_circle\n",
    "#from scipy.spatial.distance import pdist\n",
    "from geopy.distance import great_circle\n",
    "import matplotlib.pyplot as plt\n",
    "import seaborn as sns\n",
    "from sklearn.linear_model import LinearRegression\n",
    "from sklearn import preprocessing\n",
    "import matplotlib\n",
    "#matplotlib.use('nbagg')\n",
    "from sklearn.ensemble import RandomForestClassifier"
   ]
  },
  {
   "cell_type": "code",
   "execution_count": 17,
   "metadata": {},
   "outputs": [],
   "source": [
    "data=pd.read_csv('train.csv')\n",
    "data1=pd.read_csv('test.csv')\n",
    "\n"
   ]
  },
  {
   "cell_type": "code",
   "execution_count": 99,
   "metadata": {
    "collapsed": true
   },
   "outputs": [],
   "source": [
    "data['pickup_datetime']=pd.to_datetime(data['pickup_datetime'],format='%Y%m%d %H:%M:%S')\n",
    "data1['pickup_datetime']=pd.to_datetime(data1['pickup_datetime'],format='%Y%m%d %H:%M:%S')"
   ]
  },
  {
   "cell_type": "code",
   "execution_count": 16,
   "metadata": {},
   "outputs": [],
   "source": [
    "data['dropoff_datetime']=pd.to_datetime(data['dropoff_datetime'],format='%Y%m%d %H:%M:%S')"
   ]
  },
  {
   "cell_type": "code",
   "execution_count": null,
   "metadata": {},
   "outputs": [],
   "source": [
    "type(data.dropoff_datetime[0])"
   ]
  },
  {
   "cell_type": "code",
   "execution_count": null,
   "metadata": {},
   "outputs": [],
   "source": [
    "data['weekday']=data['pickup_datetime'].dt.dayofweek\n",
    "data['month']=data['pickup_datetime'].dt.dayofweek\n",
    "data['hours']=data['pickup_datetime'].dt.hour\n",
    "\n",
    "data1['weekday']=data1['pickup_datetime'].dt.dayofweek\n",
    "data1['month']=data1['pickup_datetime'].dt.dayofweek\n",
    "data1['hours']=data1['pickup_datetime'].dt.hour\n"
   ]
  },
  {
   "cell_type": "code",
   "execution_count": null,
   "metadata": {},
   "outputs": [],
   "source": [
    "data['pickup_coord'] = [(a,b) for a, b in zip(data.pickup_latitude,data.pickup_longitude)]\n",
    "data['dropoff_coord'] = [(a,b) for a, b in zip(data.dropoff_latitude,data.dropoff_longitude)]\n",
    "data['distance'] = [great_circle(a,b).miles for a, b in zip(data.pickup_coord,data.dropoff_coord)]\n",
    "#print data.head()\n",
    "data1['pickup_coord'] = [(a,b) for a, b in zip(data1.pickup_latitude,data1.pickup_longitude)]\n",
    "data1['dropoff_coord'] = [(a,b) for a, b in zip(data1.dropoff_latitude,data1.dropoff_longitude)]\n",
    "data1['distance'] = [great_circle(a,b).miles for a, b in zip(data1.pickup_coord,data1.dropoff_coord)]"
   ]
  },
  {
   "cell_type": "code",
   "execution_count": null,
   "metadata": {},
   "outputs": [],
   "source": [
    "# deriving distance variable from given coordinates\n",
    "data['distance']=data['distance'].round(0).astype(int)\n",
    "data1['distance']=data1['distance'].round(0).astype(int)"
   ]
  },
  {
   "cell_type": "code",
   "execution_count": null,
   "metadata": {},
   "outputs": [],
   "source": [
    "# Data cleaning\n",
    "data=data.drop('pickup_coord',1)\n",
    "data=data.drop('dropoff_coord',1)\n",
    "data=data.drop('pickup_datetime',1)\n",
    "data=data.drop('dropoff_datetime',1)\n",
    "data=data.drop('pickup_longitude',1)\n",
    "data=data.drop('pickup_latitude',1)\n",
    "data=data.drop('dropoff_longitude',1)\n",
    "data=data.drop('dropoff_latitude',1)\n",
    "data=data.drop('id',1)\n",
    "data1=data1.drop('pickup_coord',1)\n",
    "data1=data1.drop('dropoff_coord',1)\n",
    "data1=data1.drop('pickup_datetime',1)\n",
    "data1=data1.drop('pickup_longitude',1)\n",
    "data1=data1.drop('pickup_latitude',1)\n",
    "data1=data1.drop('dropoff_longitude',1)\n",
    "data1=data1.drop('dropoff_latitude',1)\n",
    "data1=data1.drop('id',1)"
   ]
  },
  {
   "cell_type": "code",
   "execution_count": null,
   "metadata": {},
   "outputs": [],
   "source": [
    "#Derived variable\n",
    "data['weekdayhour']=data['hours']*data['weekday']\n",
    "data1['weekdayhour']=data1['hours']*data1['weekday']"
   ]
  },
  {
   "cell_type": "code",
   "execution_count": null,
   "metadata": {
    "collapsed": true
   },
   "outputs": [],
   "source": [
    "str_columns = ['hours','month','weekday','vendor_id']\n",
    "for i in str_columns:\n",
    "    data[i]=data[i].apply(str)\n",
    "    data1[i]=data1[i].apply(str)"
   ]
  },
  {
   "cell_type": "code",
   "execution_count": null,
   "metadata": {},
   "outputs": [],
   "source": [
    "data = pd.get_dummies(data, drop_first=1)\n",
    "data1 = pd.get_dummies(data1, drop_first=1)"
   ]
  },
  {
   "cell_type": "code",
   "execution_count": null,
   "metadata": {
    "collapsed": true
   },
   "outputs": [],
   "source": [
    "# outliers\n",
    "data=data.drop(data[(data.trip_duration>120000)].index)"
   ]
  },
  {
   "cell_type": "code",
   "execution_count": null,
   "metadata": {},
   "outputs": [],
   "source": [
    "#from sklearn.preprocessing import MinMaxScale\n",
    "\n",
    "numerical_cols = ['distance','passenger_count','weekdayhour']\n",
    "scaler = preprocessing.MinMaxScaler()\n",
    "data[numerical_cols] = scaler.fit_transform(data[numerical_cols])\n",
    "data1[numerical_cols] = scaler.fit_transform(data1[numerical_cols])\n",
    "print (data1)"
   ]
  },
  {
   "cell_type": "code",
   "execution_count": null,
   "metadata": {
    "scrolled": true
   },
   "outputs": [],
   "source": [
    "\n",
    "    # Separate the dependent variable from dataframe(Train)\n",
    "y_train = data[\"trip_duration\"].values\n",
    "X_train=data.drop('trip_duration',1)\n",
    "y_test = data1[\"trip_duration\"].values\n",
    "X_test=data1.drop('trip_duration',1)\n",
    "\n",
    "\n",
    "\n",
    "    # Fitting Multiple Linear Regression to the Training set\n",
    "from sklearn.linear_model import LinearRegression\n",
    "regressor = LinearRegression()\n",
    "regressor.fit(X_train, y_train)\n",
    "print(1)\n",
    "    # Predicting the Test set results\n",
    "Y_pred = regressor.predict(X_test)"
   ]
  },
  {
   "cell_type": "code",
   "execution_count": null,
   "metadata": {
    "collapsed": true
   },
   "outputs": [],
   "source": []
  },
  {
   "cell_type": "code",
   "execution_count": null,
   "metadata": {
    "collapsed": true
   },
   "outputs": [],
   "source": []
  },
  {
   "cell_type": "code",
   "execution_count": null,
   "metadata": {},
   "outputs": [],
   "source": []
  },
  {
   "cell_type": "code",
   "execution_count": null,
   "metadata": {},
   "outputs": [],
   "source": []
  },
  {
   "cell_type": "code",
   "execution_count": null,
   "metadata": {},
   "outputs": [],
   "source": []
  },
  {
   "cell_type": "code",
   "execution_count": null,
   "metadata": {},
   "outputs": [],
   "source": []
  },
  {
   "cell_type": "code",
   "execution_count": null,
   "metadata": {
    "collapsed": true
   },
   "outputs": [],
   "source": []
  },
  {
   "cell_type": "code",
   "execution_count": null,
   "metadata": {},
   "outputs": [],
   "source": []
  },
  {
   "cell_type": "code",
   "execution_count": null,
   "metadata": {},
   "outputs": [],
   "source": [
    "\n"
   ]
  },
  {
   "cell_type": "code",
   "execution_count": null,
   "metadata": {},
   "outputs": [],
   "source": []
  },
  {
   "cell_type": "code",
   "execution_count": null,
   "metadata": {},
   "outputs": [],
   "source": []
  },
  {
   "cell_type": "code",
   "execution_count": null,
   "metadata": {},
   "outputs": [],
   "source": []
  },
  {
   "cell_type": "code",
   "execution_count": null,
   "metadata": {},
   "outputs": [],
   "source": []
  },
  {
   "cell_type": "code",
   "execution_count": null,
   "metadata": {},
   "outputs": [],
   "source": []
  },
  {
   "cell_type": "code",
   "execution_count": null,
   "metadata": {},
   "outputs": [],
   "source": []
  },
  {
   "cell_type": "code",
   "execution_count": null,
   "metadata": {
    "scrolled": true
   },
   "outputs": [],
   "source": []
  },
  {
   "cell_type": "code",
   "execution_count": null,
   "metadata": {},
   "outputs": [],
   "source": []
  },
  {
   "cell_type": "code",
   "execution_count": null,
   "metadata": {},
   "outputs": [],
   "source": []
  },
  {
   "cell_type": "code",
   "execution_count": null,
   "metadata": {
    "collapsed": true
   },
   "outputs": [],
   "source": []
  },
  {
   "cell_type": "code",
   "execution_count": null,
   "metadata": {
    "collapsed": true
   },
   "outputs": [],
   "source": []
  },
  {
   "cell_type": "code",
   "execution_count": null,
   "metadata": {},
   "outputs": [],
   "source": []
  },
  {
   "cell_type": "code",
   "execution_count": null,
   "metadata": {},
   "outputs": [],
   "source": []
  },
  {
   "cell_type": "code",
   "execution_count": null,
   "metadata": {},
   "outputs": [],
   "source": []
  },
  {
   "cell_type": "code",
   "execution_count": null,
   "metadata": {},
   "outputs": [],
   "source": []
  },
  {
   "cell_type": "code",
   "execution_count": null,
   "metadata": {},
   "outputs": [],
   "source": []
  },
  {
   "cell_type": "code",
   "execution_count": null,
   "metadata": {},
   "outputs": [],
   "source": []
  },
  {
   "cell_type": "code",
   "execution_count": null,
   "metadata": {},
   "outputs": [],
   "source": []
  },
  {
   "cell_type": "code",
   "execution_count": null,
   "metadata": {
    "collapsed": true
   },
   "outputs": [],
   "source": []
  },
  {
   "cell_type": "code",
   "execution_count": null,
   "metadata": {},
   "outputs": [],
   "source": []
  },
  {
   "cell_type": "code",
   "execution_count": null,
   "metadata": {
    "collapsed": true
   },
   "outputs": [],
   "source": []
  }
 ],
 "metadata": {
  "kernelspec": {
   "display_name": "Python 3",
   "language": "python",
   "name": "python3"
  },
  "language_info": {
   "codemirror_mode": {
    "name": "ipython",
    "version": 3
   },
   "file_extension": ".py",
   "mimetype": "text/x-python",
   "name": "python",
   "nbconvert_exporter": "python",
   "pygments_lexer": "ipython3",
   "version": "3.6.1"
  }
 },
 "nbformat": 4,
 "nbformat_minor": 2
}
